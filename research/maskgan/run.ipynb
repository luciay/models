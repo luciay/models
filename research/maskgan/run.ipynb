{
 "cells": [
  {
   "cell_type": "markdown",
   "metadata": {},
   "source": [
    "# Setup"
   ]
  },
  {
   "cell_type": "markdown",
   "metadata": {},
   "source": [
    "1) Download ptb files to folder '~/models/research/maskgan/tmp/ptb': \n",
    "  - https://raw.githubusercontent.com/tomsercu/lstm/master/data/ptb.train.txt\n",
    "  - https://raw.githubusercontent.com/tomsercu/lstm/master/data/ptb.valid.txt\n",
    "  - https://raw.githubusercontent.com/tomsercu/lstm/master/data/ptb.test.txt\n",
    "\n",
    "2) Set data_dir and base_dir:\n",
    "   - data_dir should be '~/models/research/maskgan/tmp/ptb'\n",
    "   - base_dir should be '~/models/research/maskgan'"
   ]
  },
  {
   "cell_type": "markdown",
   "metadata": {},
   "source": [
    "# Run MLE mode for maskGAN"
   ]
  },
  {
   "cell_type": "code",
   "execution_count": 7,
   "metadata": {},
   "outputs": [
    {
     "name": "stdout",
     "output_type": "stream",
     "text": [
      "Process is terminated.\n"
     ]
    }
   ],
   "source": [
    "%%bash\n",
    "data_dir='/Users/AMD/Documents/dl/models/research/maskgan/tmp/ptb'\n",
    "base_dir='/Users/AMD/Documents/dl/models/research/maskgan'\n",
    "\n",
    " python train_mask_gan.py \\\n",
    " --data_dir=$data_dir \\\n",
    " --batch_size=20 \\\n",
    " --sequence_length=20 \\\n",
    " --base_directory=$base_dir \\\n",
    " --hparams=\"gen_rnn_size=650,dis_rnn_size=650,gen_num_layers=2,dis_num_layers=2,gen_learning_rate=0.00074876,dis_learning_rate=5e-4,baseline_decay=0.99,dis_train_iterations=1,gen_learning_rate_decay=0.95\" \\\n",
    " --mode='TRAIN' \\\n",
    " --max_steps=1 \\\n",
    " --generator_model='seq2seq_vd' \\\n",
    " --discriminator_model='rnn_zaremba' \\\n",
    " --is_present_rate=0.5 \\\n",
    " --summaries_every=1 \\\n",
    " --print_every=1 \\\n",
    " --max_num_to_print=3 \\\n",
    " --gen_training_strategy=cross_entropy \\\n",
    " --seq2seq_share_embedding \\\n",
    " --gen_pretrain_steps=1000 \\\n",
    " --dis_pretrain_steps=1000 \\\n",
    " --dis_pretain_op=1000 \\\n",
    " --gen_pretrain_learning_rate=1.0"
   ]
  },
  {
   "cell_type": "markdown",
   "metadata": {},
   "source": [
    "# Run GAN mode for maskGAN"
   ]
  },
  {
   "cell_type": "code",
   "execution_count": null,
   "metadata": {},
   "outputs": [],
   "source": [
    "%%bash \n",
    "data_dir='/Users/luciayu/Documents/models/research/maskgan/tmp/ptb'\n",
    "base_dir='/Users/luciayu/Documents/models/research/maskgan'\n",
    "\n",
    "python train_mask_gan.py \\\n",
    " --data_dir=$data_dir \\\n",
    " --batch_size=128 \\\n",
    " --sequence_length=20 \\\n",
    " --base_directory=$base_dir \\\n",
    " --mask_strategy=contiguous \\\n",
    " --maskgan_ckpt=None \\\n",
    " --hparams=\"gen_rnn_size=650,dis_rnn_size=650,gen_num_layers=2,dis_num_layers=2,gen_learning_rate=0.000038877,gen_learning_rate_decay=1.0,gen_full_learning_rate_steps=2000000,gen_vd_keep_prob=0.33971,rl_discount_rate=0.89072,dis_learning_rate=5e-4,baseline_decay=0.99,dis_train_iterations=2,dis_pretrain_learning_rate=0.005,critic_learning_rate=5.1761e-7,dis_vd_keep_prob=0.71940\" \\\n",
    " --mode='TRAIN' \\\n",
    " --max_steps=1 \\\n",
    " --generator_model='seq2seq_vd' \\\n",
    " --discriminator_model='seq2seq_vd' \\\n",
    " --is_present_rate=0.5 \\\n",
    " --summaries_every=250 \\\n",
    " --print_every=250 \\\n",
    " --max_num_to_print=3 \\\n",
    " --gen_training_strategy='reinforce' \\\n",
    " --seq2seq_share_embedding=true \\\n",
    " --baseline_method=critic \\\n",
    " --attention_option=luong"
   ]
  },
  {
   "cell_type": "code",
   "execution_count": null,
   "metadata": {},
   "outputs": [],
   "source": [
    "%%bash\n",
    "data_dir='/Users/AMD/Documents/dl/models/research/maskgan/tmp/ptb'\n",
    "base_dir='/Users/AMD/Documents/dl/models/research/maskgan'\n",
    "\n",
    "python generate_samples.py \\\n",
    " --data_dir /tmp/ptb/ \\\n",
    " --data_set=ptb \\\n",
    " --batch_size=256 \\\n",
    " --sequence_length=20 \\\n",
    " --base_directory /tmp/imdbsample/ \\\n",
    " --hparams=\"gen_rnn_size=650,dis_rnn_size=650,gen_num_layers=2,gen_vd_keep_prob=0.33971\" \\\n",
    " --generator_model=seq2seq_vd \\\n",
    " --discriminator_model=seq2seq_vd \\\n",
    " --is_present_rate=0.0 \\\n",
    " --maskgan_ckpt=/tmp/maskGAN \\\n",
    " --seq2seq_share_embedding=True \\\n",
    " --dis_share_embedding=True \\\n",
    " --attention_option=luong \\\n",
    " --mask_strategy=contiguous \\\n",
    " --baseline_method=critic \\\n",
    " --number_epochs=4"
   ]
  },
  {
   "cell_type": "code",
   "execution_count": null,
   "metadata": {},
   "outputs": [],
   "source": []
  }
 ],
 "metadata": {
  "kernelspec": {
   "display_name": "Python 2",
   "language": "python",
   "name": "python2"
  },
  "language_info": {
   "codemirror_mode": {
    "name": "ipython",
    "version": 2
   },
   "file_extension": ".py",
   "mimetype": "text/x-python",
   "name": "python",
   "nbconvert_exporter": "python",
   "pygments_lexer": "ipython2",
   "version": "2.7.10"
  }
 },
 "nbformat": 4,
 "nbformat_minor": 2
}
